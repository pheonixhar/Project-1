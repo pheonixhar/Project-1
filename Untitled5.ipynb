{
 "cells": [
  {
   "cell_type": "code",
   "execution_count": 1,
   "metadata": {},
   "outputs": [
    {
     "name": "stdout",
     "output_type": "stream",
     "text": [
      "Using matplotlib backend: Qt5Agg\n",
      "Populating the interactive namespace from numpy and matplotlib\n"
     ]
    }
   ],
   "source": [
    "%pylab\n"
   ]
  },
  {
   "cell_type": "code",
   "execution_count": 2,
   "metadata": {
    "collapsed": true
   },
   "outputs": [],
   "source": [
    "plt.style.use('ggplot')"
   ]
  },
  {
   "cell_type": "code",
   "execution_count": 3,
   "metadata": {
    "collapsed": true
   },
   "outputs": [],
   "source": [
    "import tensorflow as tf\n"
   ]
  },
  {
   "cell_type": "code",
   "execution_count": 4,
   "metadata": {},
   "outputs": [
    {
     "name": "stdout",
     "output_type": "stream",
     "text": [
      "Tensor(\"Mul:0\", shape=(3,), dtype=int32)\n"
     ]
    }
   ],
   "source": [
    "x1 = tf.constant([1,2,33])\n",
    "X2 = tf.constant([1,2,4])\n",
    "result = tf.multiply(x1,X2)\n",
    "print(result)"
   ]
  },
  {
   "cell_type": "code",
   "execution_count": 5,
   "metadata": {},
   "outputs": [
    {
     "name": "stdout",
     "output_type": "stream",
     "text": [
      "[  1   4 132]\n"
     ]
    }
   ],
   "source": [
    "sess = tf.Session()\n",
    "print(sess.run(result))\n",
    "sess.close()\n",
    "import skimage\n",
    "from skimage import data\n",
    "def load_data(data_directory):\n",
    "    directories = [d for d in os.listdir(data_directory) \n",
    "                   if os.path.isdir(os.path.join(data_directory, d))]\n",
    "    labels = []\n",
    "    images = []\n",
    "    for d in directories:\n",
    "        label_directory = os.path.join(data_directory, d)\n",
    "        file_names = [os.path.join(label_directory, f) \n",
    "                      for f in os.listdir(label_directory) \n",
    "                      if f.endswith(\".ppm\")]\n",
    "        for f in file_names:\n",
    "            images.append(skimage.data.imread(f))\n",
    "            labels.append(int(d))\n",
    "    return images, labels"
   ]
  },
  {
   "cell_type": "code",
   "execution_count": 6,
   "metadata": {
    "collapsed": true
   },
   "outputs": [],
   "source": [
    "import os"
   ]
  },
  {
   "cell_type": "code",
   "execution_count": 7,
   "metadata": {
    "collapsed": true
   },
   "outputs": [],
   "source": [
    "ROOT_PATH = r\"C:\\Users\\hp pc\\Desktop\\computer visi\"\n",
    "train_data_directory = os.path.join(ROOT_PATH, \"Training\")\n",
    "test_data_directory = os.path.join(ROOT_PATH, \"Testing\")\n",
    "\n",
    "images, labels = load_data(train_data_directory)"
   ]
  },
  {
   "cell_type": "code",
   "execution_count": 8,
   "metadata": {},
   "outputs": [
    {
     "name": "stdout",
     "output_type": "stream",
     "text": [
      "1\n"
     ]
    }
   ],
   "source": [
    "print(np.array(images).ndim)"
   ]
  },
  {
   "cell_type": "code",
   "execution_count": 9,
   "metadata": {},
   "outputs": [
    {
     "name": "stdout",
     "output_type": "stream",
     "text": [
      "4575\n"
     ]
    }
   ],
   "source": [
    "print(np.array(images).size)"
   ]
  },
  {
   "cell_type": "code",
   "execution_count": 10,
   "metadata": {
    "collapsed": true
   },
   "outputs": [],
   "source": [
    "images = np.array(images)"
   ]
  },
  {
   "cell_type": "code",
   "execution_count": 11,
   "metadata": {},
   "outputs": [
    {
     "data": {
      "text/plain": [
       "array([[[ 38,  48,  32],\n",
       "        [ 40,  48,  30],\n",
       "        [ 40,  47,  27],\n",
       "        ..., \n",
       "        [ 53,  63,  43],\n",
       "        [ 52,  63,  43],\n",
       "        [ 52,  64,  44]],\n",
       "\n",
       "       [[ 33,  45,  29],\n",
       "        [ 37,  47,  27],\n",
       "        [ 38,  47,  26],\n",
       "        ..., \n",
       "        [ 53,  63,  43],\n",
       "        [ 52,  63,  43],\n",
       "        [ 53,  65,  45]],\n",
       "\n",
       "       [[ 31,  42,  26],\n",
       "        [ 36,  45,  26],\n",
       "        [ 39,  47,  25],\n",
       "        ..., \n",
       "        [ 52,  61,  41],\n",
       "        [ 54,  64,  44],\n",
       "        [ 56,  67,  47]],\n",
       "\n",
       "       ..., \n",
       "       [[ 58,  78,  54],\n",
       "        [ 29,  69,  52],\n",
       "        [ 57, 119, 106],\n",
       "        ..., \n",
       "        [129, 110,  85],\n",
       "        [ 75,  54,  35],\n",
       "        [ 59,  48,  38]],\n",
       "\n",
       "       [[ 61,  78,  61],\n",
       "        [ 33,  77,  68],\n",
       "        [ 67, 139, 134],\n",
       "        ..., \n",
       "        [111,  90,  66],\n",
       "        [ 78,  57,  38],\n",
       "        [ 62,  53,  41]],\n",
       "\n",
       "       [[ 65,  79,  70],\n",
       "        [ 44,  93,  92],\n",
       "        [ 79, 160, 163],\n",
       "        ..., \n",
       "        [142, 119,  96],\n",
       "        [109,  89,  67],\n",
       "        [ 62,  57,  41]]], dtype=uint8)"
      ]
     },
     "execution_count": 11,
     "metadata": {},
     "output_type": "execute_result"
    }
   ],
   "source": [
    "images[1]"
   ]
  },
  {
   "cell_type": "code",
   "execution_count": 12,
   "metadata": {},
   "outputs": [
    {
     "data": {
      "text/plain": [
       "(120, 123, 3)"
      ]
     },
     "execution_count": 12,
     "metadata": {},
     "output_type": "execute_result"
    }
   ],
   "source": [
    "images[1].shape"
   ]
  },
  {
   "cell_type": "code",
   "execution_count": null,
   "metadata": {
    "collapsed": true
   },
   "outputs": [],
   "source": []
  },
  {
   "cell_type": "code",
   "execution_count": 13,
   "metadata": {
    "collapsed": true
   },
   "outputs": [],
   "source": [
    "Labels = labels\n",
    "labels = np.array(labels)"
   ]
  },
  {
   "cell_type": "code",
   "execution_count": 14,
   "metadata": {},
   "outputs": [
    {
     "name": "stdout",
     "output_type": "stream",
     "text": [
      "1\n"
     ]
    }
   ],
   "source": [
    "print(labels.ndim)"
   ]
  },
  {
   "cell_type": "code",
   "execution_count": 15,
   "metadata": {},
   "outputs": [
    {
     "name": "stdout",
     "output_type": "stream",
     "text": [
      "4575\n"
     ]
    }
   ],
   "source": [
    "print(labels.size)"
   ]
  },
  {
   "cell_type": "code",
   "execution_count": 16,
   "metadata": {},
   "outputs": [
    {
     "name": "stdout",
     "output_type": "stream",
     "text": [
      "62\n"
     ]
    }
   ],
   "source": [
    "print(len(set(labels)))"
   ]
  },
  {
   "cell_type": "code",
   "execution_count": 17,
   "metadata": {
    "collapsed": true
   },
   "outputs": [],
   "source": [
    "import matplotlib.pyplot as plt"
   ]
  },
  {
   "cell_type": "code",
   "execution_count": 18,
   "metadata": {
    "collapsed": true
   },
   "outputs": [],
   "source": [
    "plt.hist(labels,62)\n",
    "plt.show()"
   ]
  },
  {
   "cell_type": "code",
   "execution_count": 19,
   "metadata": {
    "collapsed": true
   },
   "outputs": [],
   "source": [
    "plt.show()"
   ]
  },
  {
   "cell_type": "code",
   "execution_count": 20,
   "metadata": {
    "collapsed": true
   },
   "outputs": [],
   "source": [
    "import matplotlib.pyplot as plt\n",
    "\n",
    "# Determine the (random) indexes of the images that you want to see \n",
    "traffic_signs = [300, 2250, 3650, 4000]\n",
    "\n",
    "# Fill out the subplots with the random images that you defined \n",
    "for i in range(len(traffic_signs)):\n",
    "    plt.subplot(1, 7, i+1)\n",
    "    plt.axis('off')\n",
    "    plt.imshow(images[traffic_signs[i]])\n",
    "    plt.subplots_adjust(wspace=0.5)\n",
    "\n",
    "plt.show()"
   ]
  },
  {
   "cell_type": "code",
   "execution_count": 21,
   "metadata": {},
   "outputs": [
    {
     "name": "stdout",
     "output_type": "stream",
     "text": [
      "shape: (62, 61, 3), min: 3, max: 160\n",
      "shape: (110, 96, 3), min: 3, max: 255\n",
      "shape: (379, 153, 3), min: 0, max: 255\n",
      "shape: (100, 68, 3), min: 17, max: 255\n"
     ]
    }
   ],
   "source": [
    "\n",
    "for i in range(len(traffic_signs)):\n",
    "    plt.subplot(1, 4, i+1)\n",
    "    plt.axis('off')\n",
    "    plt.imshow(images[traffic_signs[i]])\n",
    "    plt.subplots_adjust(wspace=0.5)\n",
    "    plt.show()\n",
    "    print(\"shape: {0}, min: {1}, max: {2}\".format(images[traffic_signs[i]].shape, \n",
    "                                                  images[traffic_signs[i]].min(), \n",
    "                                                  images[traffic_signs[i]].max()))"
   ]
  },
  {
   "cell_type": "code",
   "execution_count": 22,
   "metadata": {
    "collapsed": true
   },
   "outputs": [],
   "source": [
    "\n",
    "unique_labels = set(labels)\n",
    "\n",
    "\n",
    "plt.figure(figsize=(15, 15))\n",
    "\n",
    "i = 1\n",
    "\n",
    "for label in unique_labels:\n",
    "   \n",
    "    image = images[Labels.index(label)]\n",
    "\n",
    "    plt.subplot(8, 8, i)\n",
    "    \n",
    "    plt.axis('off')\n",
    "   \n",
    "    i += 1\n",
    "   \n",
    "    plt.imshow(image)\n",
    "    \n",
    "\n",
    "plt.show()"
   ]
  },
  {
   "cell_type": "code",
   "execution_count": 24,
   "metadata": {},
   "outputs": [],
   "source": [
    "from skimage import transform \n",
    "import warnings\n",
    "warnings.simplefilter('ignore')\n",
    "\n",
    "images28 = [transform.resize(image, (28, 28)) for image in images]"
   ]
  },
  {
   "cell_type": "code",
   "execution_count": 25,
   "metadata": {
    "collapsed": true
   },
   "outputs": [],
   "source": [
    "traffic_signs = [300, 2250, 3650, 4000]\n",
    "\n",
    "\n",
    "for i in range(len(traffic_signs)):\n",
    "    plt.subplot(1, 7, i+1)\n",
    "    plt.axis('off')\n",
    "    plt.imshow(images28[traffic_signs[i]])\n",
    "    plt.subplots_adjust(wspace=0.5)\n",
    "\n",
    "plt.show()"
   ]
  },
  {
   "cell_type": "code",
   "execution_count": 26,
   "metadata": {
    "collapsed": true
   },
   "outputs": [],
   "source": [
    "from skimage.color import rgb2gray\n",
    "\n",
    "\n",
    "images28 = np.array(images28)\n",
    "\n",
    "\n",
    "images28 = rgb2gray(images28)"
   ]
  },
  {
   "cell_type": "code",
   "execution_count": 27,
   "metadata": {
    "collapsed": true
   },
   "outputs": [],
   "source": [
    "traffic_signs = [300, 2250, 3650, 4000]\n",
    "\n",
    "\n",
    "for i in range(len(traffic_signs)):\n",
    "    plt.subplot(1, 7, i+1)\n",
    "    plt.axis('off')\n",
    "    plt.imshow(images28[traffic_signs[i]], cmap = \"gray\")\n",
    "    plt.subplots_adjust(wspace=0.5)\n",
    "\n",
    "plt.show()"
   ]
  },
  {
   "cell_type": "code",
   "execution_count": 28,
   "metadata": {
    "collapsed": true
   },
   "outputs": [],
   "source": [
    " \n",
    "import tensorflow as tf \n",
    "\n",
    "\n",
    "x = tf.placeholder(dtype = tf.float32, shape = [None, 28, 28])\n",
    "y = tf.placeholder(dtype = tf.int32, shape = [None])\n",
    "\n",
    "images_flat = tf.contrib.layers.flatten(x)\n",
    "\n",
    "logits = tf.contrib.layers.fully_connected(images_flat, 62, tf.nn.relu)\n",
    "\n",
    "loss = tf.reduce_mean(tf.nn.sparse_softmax_cross_entropy_with_logits(labels = y, \n",
    "                                                                    logits = logits))\n",
    "\n",
    "train_op = tf.train.AdamOptimizer(learning_rate=0.001).minimize(loss)\n",
    "\n",
    "correct_pred = tf.argmax(logits, 1)\n",
    "\n",
    "accuracy = tf.reduce_mean(tf.cast(correct_pred, tf.float32))"
   ]
  },
  {
   "cell_type": "code",
   "execution_count": 29,
   "metadata": {},
   "outputs": [
    {
     "name": "stdout",
     "output_type": "stream",
     "text": [
      "Loss:  4.16952\n",
      "Loss:  3.56586\n",
      "Loss:  3.2787\n",
      "Loss:  3.01582\n",
      "Loss:  2.80337\n",
      "Loss:  2.62848\n",
      "Loss:  2.48833\n",
      "Loss:  2.37504\n",
      "Loss:  2.28259\n",
      "Loss:  2.20582\n",
      "Loss:  2.14077\n",
      "Loss:  2.08465\n",
      "Loss:  2.03558\n",
      "Loss:  1.99219\n",
      "Loss:  1.95344\n",
      "Loss:  1.91852\n",
      "Loss:  1.88681\n",
      "Loss:  1.85777\n",
      "Loss:  1.83105\n",
      "Loss:  1.80631\n",
      "Loss:  1.78333\n"
     ]
    }
   ],
   "source": [
    "tf.set_random_seed(1234)\n",
    "\n",
    "sess = tf.Session()\n",
    "sess.run(tf.global_variables_initializer())\n",
    "for i in range(201):\n",
    "    _, loss_value = sess.run([train_op, loss], feed_dict={x: images28, y: labels})\n",
    "    if i % 10 == 0:\n",
    "        print(\"Loss: \", loss_value)"
   ]
  },
  {
   "cell_type": "code",
   "execution_count": 31,
   "metadata": {},
   "outputs": [
    {
     "name": "stdout",
     "output_type": "stream",
     "text": [
      "[39, 33, 19, 7, 61, 32, 53, 0, 19, 39]\n",
      "[39 38 19  7 61 32 53  1 19 39]\n"
     ]
    }
   ],
   "source": [
    "import random\n",
    "sample_indexes = random.sample(range(len(images28)),10)\n",
    "sample_images = [images28[i] for i in sample_indexes]\n",
    "sample_labels = [labels[i] for i in sample_indexes]\n",
    "\n",
    "predicted = sess.run([correct_pred], \n",
    "                        feed_dict={x: sample_images})[0]\n",
    "\n",
    "print(sample_labels)\n",
    "print(predicted)\n",
    "\n",
    "fig = plt.figure(figsize=(10, 10))\n",
    "for i in range(len(sample_images)):\n",
    "    truth = sample_labels[i]\n",
    "    prediction = predicted[i]\n",
    "    plt.subplot(5, 2,1+i)\n",
    "    plt.axis('off')\n",
    "    color='green' if truth == prediction else 'red'\n",
    "    plt.text(40, 10, \"Truth:        {0}\\nPrediction: {1}\".format(truth, prediction), \n",
    "             fontsize=12, color=color)\n",
    "    plt.imshow(sample_images[i],cmap= \"gray\")"
   ]
  },
  {
   "cell_type": "code",
   "execution_count": null,
   "metadata": {
    "collapsed": true
   },
   "outputs": [],
   "source": []
  },
  {
   "cell_type": "code",
   "execution_count": null,
   "metadata": {
    "collapsed": true
   },
   "outputs": [],
   "source": []
  },
  {
   "cell_type": "code",
   "execution_count": null,
   "metadata": {
    "collapsed": true
   },
   "outputs": [],
   "source": []
  }
 ],
 "metadata": {
  "kernelspec": {
   "display_name": "Python 3",
   "language": "python",
   "name": "python3"
  },
  "language_info": {
   "codemirror_mode": {
    "name": "ipython",
    "version": 3
   },
   "file_extension": ".py",
   "mimetype": "text/x-python",
   "name": "python",
   "nbconvert_exporter": "python",
   "pygments_lexer": "ipython3",
   "version": "3.6.1"
  }
 },
 "nbformat": 4,
 "nbformat_minor": 2
}
